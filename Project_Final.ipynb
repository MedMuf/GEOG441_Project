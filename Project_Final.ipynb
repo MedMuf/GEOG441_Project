{
 "cells": [
  {
   "cell_type": "markdown",
   "metadata": {},
   "source": [
    "# ArcGIS Automated Architecture Site Process\n",
    "\n",
    "Purpose of this code is to provide users with general data of a site that they have picked on the Earth's surface. The data provided will be of the topographic contours, building footprints, waterways, roadways, and a mesh surface, all to be exported into a drawing file and viewed within CAD and Rhino (along with any other softwares that support drawing files). \n",
    "\n",
    "This code can only be ran **ONCE** and would require another project to get a different export of a different area or simply delete all files that within the project that are related to the TIN layer (any layer that is used within the mesh layer workflow). A work around would be to delete all exports that are made, specifically layers such as the TIN and TIN domain within the folders section of the catalog, along as from the projects geodatabase. \n",
    "\n",
    "### 1st Chunk: \n",
    "\n",
    "Initial code is used to initialize arcpy and other packages, along with getting the projects location and provide ArcGIS the location as to where all created and exported files will be sent. This is then checked to tell you if the location exists with an output of “True”. A line of code is used to tell the project to overwrite layers when the code is re-ran, but works for all layers except earlier mentioned TIN related layers."
   ]
  },
  {
   "cell_type": "code",
   "execution_count": 1,
   "metadata": {},
   "outputs": [
    {
     "name": "stdout",
     "output_type": "stream",
     "text": [
      "True\n",
      "C:\\Users\\alexl\\OneDrive - Cal Poly\\GEOG 441\\GEOG_441_Indiv_Project\\GEOG_441_Indiv_Project.gdb\n"
     ]
    }
   ],
   "source": [
    "import arcpy\n",
    "import os\n",
    "import math\n",
    "\n",
    "from arcgis.gis import GIS\n",
    "from arcpy import management as DM\n",
    "\n",
    "# Allow overwriting outputs\n",
    "arcpy.env.overwriteOutput = True\n",
    "\n",
    "project = arcpy.mp.ArcGISProject(\"CURRENT\") #Set project location\n",
    "default_gdb = project.defaultGeodatabase #Set Geodatabase\n",
    "\n",
    "path = default_gdb \n",
    "arcpy.env.workspace = path\n",
    "\n",
    "print(arcpy.Exists(path)) #Determine if path exists\n",
    "print(path)"
   ]
  },
  {
   "cell_type": "markdown",
   "metadata": {},
   "source": [
    "### 2nd Chunk: \n",
    "\n",
    "Following code provides a variety of lists used to call the items needed to be imported into the map from living atlas and placed into a list. All Open Street Map (OSM) layers are placed within one list, organized by continent, while terrain layer will remain in a separate list (could be modified to a variable). If a bathemetry layer is needed, simply replace the number for the item within the terrain layer to that of a layer that looks at the ocean floor along with terrain ideally. These are found when looking into ArcGIS Online and when viewing the layer, will be the sequence of numbers and letters at the end of the URL. "
   ]
  },
  {
   "cell_type": "code",
   "execution_count": 2,
   "metadata": {},
   "outputs": [],
   "source": [
    "\n",
    "map_obj = project.activeMap \n",
    "\n",
    "# These are examples – you can swap them with other Living Atlas content \n",
    "Terrain_items = [\n",
    "    \"58a541efc59545e6b7137f961d7de883\"\n",
    "]\n",
    "\n",
    "#OSM layers sorted by continent, pulled from Living Atlas\n",
    "osm_layers_by_continent = {\n",
    "    \"North America\": [\n",
    "        (\"OSM_NA_Buildings\", \"2be4ad6652c649cbaea2be211555b1cf\"),\n",
    "        (\"OSM_NA_Highways\", \"7afec250e02845868db89c83949a672f\"),\n",
    "        (\"OSM_NA_Waterways\", \"7a7d92cef2c442c1a352d902e1f2f577\")\n",
    "    ],\n",
    "    \"South America\": [\n",
    "        (\"OSM_SA_Buildings\", \"9e2de2cd58804a8baf286ac9639cc85f\"),\n",
    "        (\"OSM_SA_Highways\", \"70c79ab73c15445492edecc53dac00c8\"),\n",
    "        (\"OSM_SA_Waterways\", \"22783d44a7b0441c806c2977ff2800f3\")\n",
    "    ],\n",
    "    \"Central America\": [\n",
    "        (\"OSM_CA_Buildings\", \"6b4bd2c5734e471fbc51deb9c5f24298\"),\n",
    "        (\"OSM_CA_Highways\", \"a22dc4dc053e45008157f3bcf2894105\"),\n",
    "        (\"OSM_CA_Waterways\", \"af162bf02efc4296878637a408f560df\")\n",
    "    ],\n",
    "    \"Europe\": [\n",
    "        (\"OSM_EU_Buildings\", \"b9abc540c5524258a673ded17cc5f4f9\"),\n",
    "        (\"OSM_EU_Highways\", \"d243222a50864c47ba97d30572839361\"),\n",
    "        (\"OSM_EU_Waterways\", \"7bf80080749e4806b936c2b39e73b62e\")\n",
    "    ],\n",
    "    \"Africa\": [\n",
    "        (\"OSM_AF_Buildings\", \"bb86721588ea49b6b44b10b7d5d2b0b1\"),\n",
    "        (\"OSM_AF_Highways\", \"6d78851a40f54041a775d7c6f4b2633e\"),\n",
    "        (\"OSM_AF_Waterways\", \"82232d0415c04e7086414dff7eb1310f\")\n",
    "    ],\n",
    "    \"Asia\": [\n",
    "        (\"OSM_AS_Buildings\", \"efcea3961e8e417aae1f341b397684a2\"),\n",
    "        (\"OSM_AS_Highways\", \"af989f50f24040e4890dce13ee1b1561\"),\n",
    "        (\"OSM_AS_Waterways\", \"fb8b1e4383124e4ab51d7729552b0a88\")\n",
    "    ],\n",
    "    \"Australia & Oceania\": [\n",
    "        (\"OSM_AU_Buildings\", \"651512cac36c48ba95c88c380ff8fac5\"),\n",
    "        (\"OSM_AU_Highways\", \"919be41ae8194e65b49c70e2891d9d08\"),\n",
    "        (\"OSM_AU_Waterways\", \"76659f9ea5bf4761b263ffe55f976d1a\")\n",
    "    ]\n",
    "}\n"
   ]
  },
  {
   "cell_type": "markdown",
   "metadata": {},
   "source": [
    "### 3rd Chunk: \n",
    "\n",
    "The user will then be provided a numbered list of the continents that their area of interest (AOI) should be located in. The user will input the continent of interest and the layers that are associated with said continent will be imported into the map layer along with the general terrain layer. All layers will not be visible for the sake of processing speed. The user can make the layers visible manually if need be.  "
   ]
  },
  {
   "cell_type": "code",
   "execution_count": 3,
   "metadata": {},
   "outputs": [
    {
     "name": "stdout",
     "output_type": "stream",
     "text": [
      "Please select your continent from the following list:\n",
      "1. North America\n",
      "2. South America\n",
      "3. Central America\n",
      "4. Europe\n",
      "5. Africa\n",
      "6. Asia\n",
      "7. Australia & Oceania\n"
     ]
    },
    {
     "name": "stdin",
     "output_type": "stream",
     "text": [
      "Enter the number corresponding to your continent:  1\n"
     ]
    },
    {
     "name": "stdout",
     "output_type": "stream",
     "text": [
      "\n",
      "Loading layers for North America:\n",
      " - OSM_NA_Buildings (ID: 2be4ad6652c649cbaea2be211555b1cf)\n",
      " - OSM_NA_Highways (ID: 7afec250e02845868db89c83949a672f)\n",
      " - OSM_NA_Waterways (ID: 7a7d92cef2c442c1a352d902e1f2f577)\n",
      "[('OSM_NA_Buildings', '2be4ad6652c649cbaea2be211555b1cf'), ('OSM_NA_Highways', '7afec250e02845868db89c83949a672f'), ('OSM_NA_Waterways', '7a7d92cef2c442c1a352d902e1f2f577')]\n"
     ]
    }
   ],
   "source": [
    "\n",
    "#Function to ask users for continent site\n",
    "def get_user_layers():\n",
    "    print(\"Please select your continent from the following list:\")\n",
    "    for i, continent in enumerate(osm_layers_by_continent.keys(), 1):\n",
    "        print(f\"{i}. {continent}\") #Provides list of continents\n",
    "    \n",
    "    choice = input(\"Enter the number corresponding to your continent: \").strip()\n",
    "    \n",
    "    try:\n",
    "        selected_continent = list(osm_layers_by_continent.keys())[int(choice) - 1]\n",
    "        print(f\"\\nLoading layers for {selected_continent}:\")\n",
    "        for layer_name, layer_id in osm_layers_by_continent[selected_continent]:\n",
    "            print(f\" - {layer_name} (ID: {layer_id})\")\n",
    "        return osm_layers_by_continent[selected_continent]\n",
    "    except (IndexError, ValueError):\n",
    "        print(\"Invalid selection. Please try again.\")\n",
    "        return get_user_layers()\n",
    "\n",
    "# Example usage\n",
    "selected_layers = get_user_layers() #Add layers to list empty variable\n",
    "\n",
    "print(selected_layers)\n",
    "\n",
    "\n",
    "for layer_name, item_id in selected_layers:\n",
    "    # Add the layer from the portal item ID\n",
    "    url = f\"https://www.arcgis.com/home/item.html?id={item_id}\"\n",
    "    layer = map_obj.addDataFromPath(url)\n",
    "    layer.visible = False\n",
    "\n",
    "#Add Terrain layer\n",
    "for item_id in Terrain_items:\n",
    "    lyr = map_obj.addDataFromPath(f\"https://www.arcgis.com/home/item.html?id={item_id}\")\n",
    "    if lyr:\n",
    "        lyr.visible = False\n",
    "\n"
   ]
  },
  {
   "cell_type": "code",
   "execution_count": 4,
   "metadata": {},
   "outputs": [
    {
     "data": {
      "text/plain": [
       "'\\n# Iterate through each continent\\nfor continent, layers in osm_layers_by_continent.items():\\n    # Create a group layer for the continent\\n    continent_group = map_obj.createGroupLayer(continent)\\n\\n    for layer_name, item_id in layers:\\n        # Add the layer from the portal item ID\\n        url = f\"https://www.arcgis.com/home/item.html?id={item_id}\"\\n        layer = map_obj.addDataFromPath(url)\\n        \\n        # Add the layer into the continent group\\n        map_obj.addLayerToGroup(continent_group, layer, \"AUTO_ARRANGE\")\\n        map_obj.removeLayer(layer)\\n\\nfor item_id in Terrain_items:\\n    lyr = map_obj.addDataFromPath(f\"https://www.arcgis.com/home/item.html?id={item_id}\")\\n    if lyr:\\n        lyr.visible = False\\n'"
      ]
     },
     "execution_count": 4,
     "metadata": {},
     "output_type": "execute_result"
    }
   ],
   "source": [
    "\n",
    "#Experiment for grouping them \n",
    "'''\n",
    "# Iterate through each continent\n",
    "for continent, layers in osm_layers_by_continent.items():\n",
    "    # Create a group layer for the continent\n",
    "    continent_group = map_obj.createGroupLayer(continent)\n",
    "\n",
    "    for layer_name, item_id in layers:\n",
    "        # Add the layer from the portal item ID\n",
    "        url = f\"https://www.arcgis.com/home/item.html?id={item_id}\"\n",
    "        layer = map_obj.addDataFromPath(url)\n",
    "        \n",
    "        # Add the layer into the continent group\n",
    "        map_obj.addLayerToGroup(continent_group, layer, \"AUTO_ARRANGE\")\n",
    "        map_obj.removeLayer(layer)\n",
    "\n",
    "for item_id in Terrain_items:\n",
    "    lyr = map_obj.addDataFromPath(f\"https://www.arcgis.com/home/item.html?id={item_id}\")\n",
    "    if lyr:\n",
    "        lyr.visible = False\n",
    "'''\n",
    "\n",
    "     "
   ]
  },
  {
   "cell_type": "markdown",
   "metadata": {},
   "source": [
    "### 4th Chunk:\n",
    "\n",
    "User will then be prompted to input a lat and long (should be of AOI), followed by an input to determine the side of a AOI polygon (in kilometers). The lat and long can be taken from websites such as Google Maps or Google Earth, or any map that uses WGS 84 as its coordinate reference system. An AOI polygon will then be generated in said area with the given side lengths by the user. The chunk will also automatically look through the layers and find the AOI layer, changing the symbology to that of a black outline box. "
   ]
  },
  {
   "cell_type": "code",
   "execution_count": 4,
   "metadata": {},
   "outputs": [
    {
     "name": "stdin",
     "output_type": "stream",
     "text": [
      "Enter latitude:  35.289761\n",
      "Enter longitude:  -120.673041\n",
      "Enter Polygon side length (km):  2\n"
     ]
    },
    {
     "data": {
      "text/html": [
       "<style>table td#td0  {font-weight: bold}</style><table class=\"notebook\"><colgroup><col style=\"width:45%\"></col><col style=\"width:55%\"></col></colgroup><tr><td id = \"td0\" title=\"XMin (Left)\">XMin (Left)</td><td title=\"-13434261.476596\">-13434261.476596</td></tr><tr><td id = \"td0\" title=\"XMax (Right)\">XMax (Right)</td><td title=\"-13432261.476596\">-13432261.476596</td></tr><tr><td id = \"td0\" title=\"YMin (Bottom)\">YMin (Bottom)</td><td title=\"4202328.560709\">4202328.560709</td></tr><tr><td id = \"td0\" title=\"YMax (Top)\">YMax (Top)</td><td title=\"4204328.560709\">4204328.560709</td></tr></table><div class=\"title\"><i class=\"chevron-open\" onClick=\"event.preventDefault();document.getElementById('04A98078-BF98-4FB7-A545-CC32A065FECA').style.display =   document.getElementById('04A98078-BF98-4FB7-A545-CC32A065FECA').style.display == 'none' ? 'block' : 'none';this.classList.toggle('chevron-closed');\"></i>spatialReference</div><div id=\"04A98078-BF98-4FB7-A545-CC32A065FECA\"><style>table td#td0  {font-weight: bold}</style><table class=\"notebook\"><colgroup><col style=\"width:45%\"></col><col style=\"width:55%\"></col></colgroup><tr><td id = \"td0\" title=\"name (Projected Coordinate System)\">name (Projected Coordinate System)</td><td title=\"WGS_1984_Web_Mercator_Auxiliary_Sphere\">WGS_1984_Web_Mercator_Auxiliary_Sphere</td></tr><tr><td id = \"td0\" title=\"factoryCode (WKID)\">factoryCode (WKID)</td><td title=\"3857\">3857</td></tr><tr><td id = \"td0\" title=\"linearUnitName (Linear Unit)\">linearUnitName (Linear Unit)</td><td title=\"Meter\">Meter</td></tr></table><div class=\"subtitle\">spatialReference.GCS</div><style>table td#td0  {font-weight: bold}</style><table class=\"notebook\"><colgroup><col style=\"width:45%\"></col><col style=\"width:55%\"></col></colgroup><tr><td id = \"td0\" title=\"name (Geographic Coordinate System)\">name (Geographic Coordinate System)</td><td title=\"GCS_WGS_1984\">GCS_WGS_1984</td></tr><tr><td id = \"td0\" title=\"factoryCode (WKID)\">factoryCode (WKID)</td><td title=\"4326\">4326</td></tr><tr><td id = \"td0\" title=\"angularUnitName (Angular Unit)\">angularUnitName (Angular Unit)</td><td title=\"Degree\">Degree</td></tr><tr><td id = \"td0\" title=\"datumName (Datum)\">datumName (Datum)</td><td title=\"D_WGS_1984\">D_WGS_1984</td></tr></table></div><br>"
      ],
      "text/plain": [
       "<Extent object at 0x1c9bd673650[0x1c95032fcf0]>"
      ]
     },
     "execution_count": 4,
     "metadata": {},
     "output_type": "execute_result"
    }
   ],
   "source": [
    "# User input: latitude and longitude\n",
    "latitude = float(input(\"Enter latitude: \")) #Example: 35.289761\n",
    "longitude = float(input(\"Enter longitude: \")) #Example:  -120.673041\n",
    "area = float(input(\"Enter Polygon side length (km): \")) #AOI side length input\n",
    "\n",
    "# Coordinate system (WGS 84 for lat/lon input)\n",
    "spatial_ref_wgs84 = arcpy.SpatialReference(4326)  # WGS 1984\n",
    "\n",
    "# Create the point geometry\n",
    "point = arcpy.Point(longitude, latitude)\n",
    "point_geom = arcpy.PointGeometry(point, spatial_ref_wgs84)\n",
    "\n",
    "# Project the point to a projected coordinate system that uses meters \n",
    "spatial_ref_projected = arcpy.SpatialReference(3857)  # Web Mercator (meters)\n",
    "projected_point = point_geom.projectAs(spatial_ref_projected)\n",
    "\n",
    "# Get x, y from projected point\n",
    "x = projected_point.centroid.X\n",
    "y = projected_point.centroid.Y\n",
    "\n",
    "half_side = (area * 1000)/2  \n",
    "\n",
    "# Define corners\n",
    "array = arcpy.Array([\n",
    "    arcpy.Point(x - half_side, y - half_side),\n",
    "    arcpy.Point(x - half_side, y + half_side),\n",
    "    arcpy.Point(x + half_side, y + half_side),\n",
    "    arcpy.Point(x + half_side, y - half_side),\n",
    "    arcpy.Point(x - half_side, y - half_side)  # Close polygon\n",
    "])\n",
    "\n",
    "square_polygon = arcpy.Polygon(array, spatial_ref_projected)\n",
    "\n",
    "arcpy.CopyFeatures_management(square_polygon, \"AOI\")\n",
    "\n",
    "\n",
    "# Find the \"AOI\" layer you just created\n",
    "layer = None\n",
    "for lyr in map_obj.listLayers():\n",
    "    if lyr.name == \"AOI\":\n",
    "        layer = lyr\n",
    "        break\n",
    "\n",
    "if layer is not None:\n",
    "    sym = layer.symbology\n",
    "\n",
    "    # Make sure it uses a simple fill symbology\n",
    "    if hasattr(sym, 'renderer'):\n",
    "        sym.updateRenderer('SimpleRenderer')\n",
    "        symbol = sym.renderer.symbol\n",
    "\n",
    "        # Set fill to transparent\n",
    "        symbol.color = {'RGB': [0, 0, 0, 0]}  # Transparent\n",
    "\n",
    "        # Set outline to black, 2pt\n",
    "        symbol.outlineColor = {'RGB': [0, 0, 0, 100]}  # Fully opaque black\n",
    "        symbol.outlineWidth = 2  # Points\n",
    "\n",
    "        # Apply changes\n",
    "        layer.symbology = sym\n",
    "\n",
    "square_polygon.extent"
   ]
  },
  {
   "cell_type": "markdown",
   "metadata": {},
   "source": [
    "### 5th Chunk: \n",
    "\n",
    "This chunk then looks through the map layers and pulls them into a list.The new list is created of only the OSM layers on the map to be used during the process, which will be referenced back to by future processes. "
   ]
  },
  {
   "cell_type": "code",
   "execution_count": 5,
   "metadata": {},
   "outputs": [
    {
     "name": "stdout",
     "output_type": "stream",
     "text": [
      "['OSM_NA_Waterways', 'OSM_NA_Highways', 'OSM_NA_Buildings']\n"
     ]
    }
   ],
   "source": [
    "#List created to be used for layer exclusion in copy features step\n",
    "excluded_names = [\"Terrain\", \"World Topographic Map\", \"World Hillshade\", \"AOI\"]\n",
    "\n",
    "\n",
    "dic = [layer.name for layer in map_obj.listLayers()]\n",
    "\n",
    "#List to be used for copy features chunk\n",
    "dict = [x for x in dic if x not in excluded_names]\n",
    "\n",
    "print(dict)\n"
   ]
  },
  {
   "cell_type": "markdown",
   "metadata": {},
   "source": [
    "### 6th Chunk: \n",
    "\n",
    "Using the copy features function, the layers within the list created in the previous chunk will be copied into the map again, only to the extend of the AOI created earlier. This is done to keep the shapes of the building footprints, along with providing context to any waterways or highways that are within the extent.  \n"
   ]
  },
  {
   "cell_type": "code",
   "execution_count": 6,
   "metadata": {},
   "outputs": [],
   "source": [
    "\n",
    "with arcpy.EnvManager(extent = square_polygon.extent):\n",
    "            for i in dict: #Iterating through list from earlier  to be copied to AOI extent\n",
    "                arcpy.management.CopyFeatures(\n",
    "                    in_features = i,\n",
    "                    out_feature_class = i + \"Clipped\",\n",
    "                    config_keyword = \"\",\n",
    "                    spatial_grid_1 = None,\n",
    "                    spatial_grid_2 = None,\n",
    "                    spatial_grid_3 = None\n",
    "            )"
   ]
  },
  {
   "cell_type": "markdown",
   "metadata": {},
   "source": [
    "### 7th Chunk: \n",
    "\n",
    "This chuck focuses on creating a clip of the terrain raster layer to the extent of the AOI. The goal is to make a raster that provides the maximum resolution allowable by ArcGIS Pro (5000x5000 pixels). The cell size is calculated and presented to the user and the clipping of the raster layer is done, providing a clipped raster layer. The cell sizes will have dimensions that are calculated in meters. \n"
   ]
  },
  {
   "cell_type": "code",
   "execution_count": 7,
   "metadata": {},
   "outputs": [
    {
     "name": "stdout",
     "output_type": "stream",
     "text": [
      "Using calculated cell size: 0.4\n"
     ]
    }
   ],
   "source": [
    "\n",
    "raster_input = \"Terrain\"  \n",
    "polygon = \"AOI\"\n",
    "output_raster = \"Terrain_clipped.tif\"\n",
    "\n",
    "# Max pixels allowed\n",
    "max_pixels = 5000\n",
    "\n",
    "# Get polygon extent\n",
    "extent = arcpy.Describe(polygon).extent\n",
    "xrange = extent.width\n",
    "yrange = extent.height\n",
    "\n",
    "# Compute cell size to stay under limit\n",
    "cell_size = max(xrange / max_pixels, yrange / max_pixels)\n",
    "\n",
    "print(f\"Using calculated cell size: {cell_size}\") #Cell size lengths would be in meters. \n",
    "\n",
    "# Set the cell size environment for the masking process\n",
    "arcpy.env.cellSize = cell_size\n",
    "\n",
    "# Perform Extract by Mask (or Clip)\n",
    "clipped_AOI = arcpy.sa.ExtractByMask(raster_input, polygon)\n",
    "\n"
   ]
  },
  {
   "cell_type": "markdown",
   "metadata": {},
   "source": [
    "### 8th Chunk: \n",
    "\n",
    "What’s followed is the generation of contours of the site. The contours are made after asking the user if they want the contours to be meters or feet and what interval they are to be set in. This allows for the z factor to be decided. The contours are generated then smoothed as to appear more contour-like as compared to raw contours. The tolerance input for the the smooth line function can be adjusted if need be by the user, with a higher tolerance genrating smoother contours lines, simplifying them. \n"
   ]
  },
  {
   "cell_type": "code",
   "execution_count": 2,
   "metadata": {},
   "outputs": [
    {
     "name": "stdin",
     "output_type": "stream",
     "text": [
      "What do unit do you want for contours (feet/meters): feet\n",
      "What contour interval would you like: 5\n"
     ]
    },
    {
     "data": {
      "text/html": [
       "<div class='gpresult'><h2 class='msg-title'>Messages</h2><div id='messages'>Start Time: Monday, June 2, 2025 9:34:50 AM<br>Smoothing lines...<br>Succeeded at Monday, June 2, 2025 9:34:58 AM (Elapsed Time: 7.36 seconds)<br></div><div id = 'default' /></div></div>"
      ],
      "text/plain": [
       "<Result 'C:\\\\Users\\\\alexl\\\\OneDrive - Cal Poly\\\\GEOG 441\\\\GEOG_441_Indiv_Project\\\\GEOG_441_Indiv_Project.gdb\\\\smooth_AOI_contours'>"
      ]
     },
     "execution_count": 2,
     "metadata": {},
     "output_type": "execute_result"
    }
   ],
   "source": [
    "ipt = str(input(\"What do unit do you want for contours (feet/meters):\")) #Ask for contour unit\n",
    "cont = int(input(\"What contour interval would you like:\")) #Ask for contour interval\n",
    "\n",
    "if ipt == \"feet\": #Set the z factor to adjust if the user wants a contour interval of feet\n",
    "    z = 3.28 #Conversion factor for if user wants feet as terrain layer is in meters\n",
    "else:\n",
    "    z = 1\n",
    "\n",
    "#Create contours\n",
    "arcpy.sa.Contour(\n",
    "    in_raster = \"clipped_AOI\",\n",
    "    out_polyline_features = r\"AOI_Contours\",\n",
    "    contour_interval = cont,\n",
    "    base_contour = 0,\n",
    "    z_factor = z,\n",
    "    contour_type = \"CONTOUR\",\n",
    "    max_vertices_per_feature = None\n",
    ")\n",
    "\n",
    "#Smooth contours to adjust for pixilation \n",
    "arcpy.cartography.SmoothLine(\n",
    "    in_features = \"AOI_Contours\",\n",
    "    out_feature_class = \"smooth_AOI_contours\",\n",
    "    algorithm = \"PAEK\",  \n",
    "    tolerance = \"10\"  # Adjust based on desired smoothness\n",
    ")\n",
    "\n",
    "        "
   ]
  },
  {
   "cell_type": "markdown",
   "metadata": {},
   "source": [
    "### 9th Chunk: \n",
    "\n",
    "This code then looks to start the process of making a mesh layer, starting with the creation of a TIN layer using the tool witching ArcGIS along with a TIN Domain to serve as the basis for a mesh layer. These also take into account the Z factor and its tolerance.\n"
   ]
  },
  {
   "cell_type": "code",
   "execution_count": 4,
   "metadata": {},
   "outputs": [
    {
     "data": {
      "text/html": [
       "<div class='gpresult'><h2 class='msg-title'>Messages</h2><div id='messages'>Start Time: Monday, June 2, 2025 9:35:42 AM<br>Succeeded at Monday, June 2, 2025 9:35:43 AM (Elapsed Time: 1.41 seconds)<br></div><div id = 'default' /></div></div>"
      ],
      "text/plain": [
       "<Result 'C:\\\\Users\\\\alexl\\\\OneDrive - Cal Poly\\\\GEOG 441\\\\GEOG_441_Indiv_Project\\\\GEOG_441_Indiv_Project.gdb\\\\TinDomain'>"
      ]
     },
     "execution_count": 4,
     "metadata": {},
     "output_type": "execute_result"
    }
   ],
   "source": [
    "#Used to determine and calculated the z tolerance needed to create TIN\n",
    "elevMINres = arcpy.GetRasterProperties_management(\"clipped_AOI\", \"MINIMUM\")\n",
    "elevMAXres = arcpy.GetRasterProperties_management(\"clipped_AOI\", \"MAXIMUM\")\n",
    "\n",
    "elevMin = float(elevMINres.getOutput(0))\n",
    "elevMax = float(elevMAXres.getOutput(0))\n",
    "\n",
    "z_tol = (elevMax - elevMin) / 10\n",
    "\n",
    "#Create TIN\n",
    "arcpy.ddd.RasterTin(\n",
    "    in_raster = \"clipped_AOI\",\n",
    "    out_tin = r\"clipped_AOI_RasterTin\",\n",
    "    z_tolerance = z_tol,\n",
    "    max_points = 1500000, #Can be adjusted, higher number, more \"accurate\"\n",
    "    z_factor = z\n",
    ")\n",
    "\n",
    "#Generate TIN domain\n",
    "#Is the \"interpolation\" zone for which the tin layer will be placed on\n",
    "arcpy.ddd.TinDomain(\n",
    "    in_tin = \"clipped_AOI_RasterTin\",\n",
    "    out_feature_class = \"TinDomain\",\n",
    "    out_geometry_type = \"POLYGON\"\n",
    ")"
   ]
  },
  {
   "cell_type": "markdown",
   "metadata": {},
   "source": [
    "### 10th chunk: \n",
    "Taking all of the above creations, we can now make a mesh surface witching ArcGIS Pro. The code creates said mesh surface. "
   ]
  },
  {
   "cell_type": "code",
   "execution_count": 11,
   "metadata": {},
   "outputs": [
    {
     "data": {
      "text/html": [
       "<div class='gpresult'><h2 class='msg-title'>Messages</h2><div id='messages'>Start Time: Saturday, May 31, 2025 12:02:40 AM<br>Succeeded at Saturday, May 31, 2025 12:02:41 AM (Elapsed Time: 0.50 seconds)<br></div><div id = 'default' /></div></div>"
      ],
      "text/plain": [
       "<Result 'C:\\\\Users\\\\alexl\\\\OneDrive\\\\Documents\\\\ArcGIS\\\\Projects\\\\PP_4\\\\PP_4.gdb\\\\Mesh'>"
      ]
     },
     "execution_count": 11,
     "metadata": {},
     "output_type": "execute_result"
    }
   ],
   "source": [
    "#Create mesh layer to fit to Clipped Raster layer\n",
    "arcpy.ddd.InterpolatePolyToPatch(\n",
    "    in_surface = \"clipped_AOI_RasterTin\",\n",
    "    in_feature_class = \"TinDomain\",\n",
    "    out_feature_class = r\"Mesh\",\n",
    "    max_strip_size = 1024,\n",
    "    z_factor = 1, #Don't use z variable as we don't want to scale it twice (if in feet)\n",
    "    area_field = \"Area\",\n",
    "    surface_area_field = \"SArea\",\n",
    "    pyramid_level_resolution= z_tol\n",
    ")"
   ]
  },
  {
   "cell_type": "markdown",
   "metadata": {},
   "source": [
    "### 11th Chunk:\n",
    "\n",
    "Smoothed contours are then interpolated (shaped to TIN surface). This allows for a 3D version of the contours to be used in drawing files. (Might not be needed)"
   ]
  },
  {
   "cell_type": "code",
   "execution_count": 19,
   "metadata": {},
   "outputs": [
    {
     "data": {
      "text/html": [
       "<div class='gpresult'><h2 class='msg-title'>Messages</h2><div id='messages'>Start Time: Friday, May 30, 2025 11:27:57 PM<br>Succeeded at Friday, May 30, 2025 11:28:09 PM (Elapsed Time: 12.33 seconds)<br></div><div id = 'default' /></div></div>"
      ],
      "text/plain": [
       "<Result 'C:\\\\Users\\\\alexl\\\\OneDrive\\\\Documents\\\\ArcGIS\\\\Projects\\\\Practice Project_2\\\\Practice Project_2.gdb\\\\clipped_AOI_Interpolate_Cont'>"
      ]
     },
     "execution_count": 19,
     "metadata": {},
     "output_type": "execute_result"
    }
   ],
   "source": [
    "#Smooted contours layer used to match the elevations of the mesh and clipped raster layer\n",
    "\n",
    "'''\n",
    "arcpy.ddd.InterpolateShape(\n",
    "    in_surface = \"clipped_AOI\",\n",
    "    in_feature_class = \"smooth_AOI_contours\",\n",
    "    out_feature_class = r\"clipped_AOI_Interpolate_Cont\",\n",
    "    sample_distance = None,\n",
    "    z_factor = z,\n",
    "    method = \"BILINEAR\",\n",
    "    vertices_only = \"DENSIFY\",\n",
    "    pyramid_level_resolution = 0,\n",
    "    preserve_features = \"EXCLUDE\"\n",
    ")\n",
    "'''"
   ]
  },
  {
   "cell_type": "markdown",
   "metadata": {},
   "source": [
    "### 12th Chuck: \n",
    "\n",
    "This final chuck will take all of the files needed and export them all into a drawing file. This is done by creating a list of the layers that we don't want included in the final CAD drawing (can be modified) and acting as a filter for the layers within the map. All the layers will be added to another list, which will then be used to create the final list needed for the export, taking the list of map layers and removing the layers from our excluded layers list. (Check project location to see if drawing file has been made, as code may be \"locked out\" and you may need to force close ArcGIS) **Be sure to safe prior to this step**\n"
   ]
  },
  {
   "cell_type": "code",
   "execution_count": null,
   "metadata": {},
   "outputs": [
    {
     "name": "stdout",
     "output_type": "stream",
     "text": [
      "['smooth_AOI_contours', 'OSM_NA_HighwaysClipped', 'OSM_NA_WaterwaysClipped', 'Mesh', 'OSM_NA_BuildingsClipped', 'OSM_NA_Waterways', 'OSM_NA_Highways', 'OSM_NA_Buildings', 'AOI']\n"
     ]
    }
   ],
   "source": [
    "\n",
    "excluded_names_final = [\"Terrain\", \"World Topographic Map\", \"World Hillshade\", 'AOI_Contours', 'TinDomain', 'OSM_Waterways_EU', 'OSM_Highways_EU', 'OSM_Buildings_EU', 'clipped_AOI', 'clipped_AOI_RasterTin']\n",
    "\n",
    "\n",
    "dic_final = [layer.name for layer in map_obj.listLayers()]\n",
    "dict_export = [x for x in dic_final if x not in excluded_names_final]\n",
    "print(dict_export)\n",
    "\n",
    "#Export files to dwg file\n",
    "arcpy.conversion.ExportCAD(\n",
    "    in_features=dict_export,\n",
    "    Output_Type=\"DWG_R2018\",\n",
    "    Output_File=\"clipped_AOI_CAD.dwg\",\n",
    "    Ignore_FileNames=\"Ignore_Filenames_in_Tables\",\n",
    "    Append_To_Existing=\"Overwrite_Existing_Files\",\n",
    "    Seed_File=None\n",
    ")"
   ]
  },
  {
   "cell_type": "code",
   "execution_count": null,
   "metadata": {},
   "outputs": [],
   "source": []
  }
 ],
 "metadata": {
  "kernelspec": {
   "display_name": "ArcGISPro",
   "language": "python",
   "name": "python3"
  },
  "language_info": {
   "file_extension": ".py",
   "mimetype": "text/x-python",
   "name": "python",
   "version": "3.11.10"
  }
 },
 "nbformat": 4,
 "nbformat_minor": 4
}
